{
  "nbformat": 4,
  "nbformat_minor": 0,
  "metadata": {
    "colab": {
      "provenance": []
    },
    "kernelspec": {
      "name": "python3",
      "display_name": "Python 3"
    },
    "language_info": {
      "name": "python"
    }
  },
  "cells": [
    {
      "cell_type": "markdown",
      "source": [],
      "metadata": {
        "id": "uEZp4l1KgRBj"
      }
    },
    {
      "cell_type": "markdown",
      "source": [
        "Q.1)What is Python and why is it popular?\n",
        "\n",
        "Answer- Python is a high-level,interpreted,object-oriented,general purpose programming language that emphasizes code readability and can be used for web development, software development, mathematics and more.\n",
        "\n",
        "The programming language Python was conceived in the late 1980s and it was implemented in 1989 by Guido van Rossum.\n",
        "\n",
        "Python is popular because of the following:\n",
        "\n",
        "1)Easy to learn and use\n",
        "\n",
        "2)Scalability and Versatility\n",
        "\n",
        "3)Good ecosystem of libraries\n",
        "\n",
        "4)Community Support\n",
        "\n",
        "5)Open-source and free\n",
        "\n",
        "Q.2)What is an interpreter in Python?\n",
        "\n",
        "Answer-An Interpreter is a program that converts the code a developer writes into an intermediate language, called the byte code. It converts the code line by line, one at a time. It translates till the end and stops at that line where an error occurs, if any, making the debugging process easy.\n",
        "\n",
        "Features of Python Interpreter:\n",
        "\n",
        "The Python Interpreter is user friendly and its features include:\n",
        "\n",
        "a)Interactive editing\n",
        "\n",
        "b)Use of variables initialized in the previous prompts\n",
        "\n",
        "c)Writing the complete code in it with a readline facility.\n",
        "\n",
        "Getting started with the Python Interpreter:-\n",
        "\n",
        "To open the Python interpreter, installed in the system, search in the Start menu. Then click on Python 3.11 or other, depending on the installed version.\n",
        "\n",
        "In Windows, it looks like Command Prompt. And on Mac, it looks like a terminal.\n",
        "\n",
        "The interpreter environment works using REPL:\n",
        "\n",
        "1)Read the lines of the code\n",
        "\n",
        "2)Evaluate and execute the code\n",
        "\n",
        "3)Print the output of the code (if any) to the console\n",
        "\n",
        "4)Looping to repeat the above process\n",
        "\n",
        "Q.3)What are pre-defined keywords in Python?\n",
        "\n",
        "Answer- Pre-defined keywords in Python are special , reserved words that are part of the language itself.They define the rules and structure of Python program, which means you cannot use them as your variable name, functions or any other identifiers.They cannot be redifned or, changed.\n",
        "\n",
        "Q.4) Can keywords be used as variable names?\n",
        "\n",
        "Answer- We cannot use a keyword as a variable name, function name, or any other identifier. They are used to define the syntax and structure of the Python language.Keywords are predefined, reserved words used in Python programming that have special meanings to the compiler.\n",
        "\n",
        "Q.5)What is mutability in Python?\n",
        "\n",
        "Answer-In Python, everything is an object. But not all objects behave the same way. Some can be changed after they're created — these are mutable.Mutability refers to the capability of an object to be changed or, modified after its creation.Understanding mutability is essential for writing robust Python code.So, we use mutable types when we need flexibility.\n",
        "\n",
        "Examples-lists, dictionary, sets.\n",
        "\n",
        "Q.6)Why are lists mutable, but tuples are immutable?\n",
        "\n",
        "Answer-Lists are mutable in Python because they allow modifications to be made to their elements after the list is created. This mutability facilitates operations such as adding, removing, or modifying elements within the list even after its initial creation.\n",
        "\n",
        "Tuples are immutable in Python. This means that once a tuple is created its elements cannot be changed, added or removed. The immutability of tuples makes them a fixed, unchangeable collection of items.\n",
        "\n",
        "The following are a few important reasons for tuples being immutable :-\n",
        "\n",
        "1)Maintaining Order: Tuples are mainly defined in Python as a way to show order. For example, when you retrieve data from a database in the form of a list of tuples, all the tuples are in the order of the fields you fetched.\n",
        "\n",
        "2)Copy efficiency: Rather than copying an immutable object, you can alias it (bind a variable to a reference).\n",
        "\n",
        "3)Comparing efficiency: You can compare two variables by comparing position rather than content when using copy-by-reference.\n",
        "\n",
        "4)Interning: Any immutable value requires just one copy to be stored. In concurrent programs, there's no requirement to synchronize access to immutable objects.\n",
        "\n",
        "5)Constant correctness: Some values shouldn't be allowed to change.\n",
        "\n",
        "Q.7)What is the difference between “==” and “is” operators in Python ?\n",
        "\n",
        "Answer- is Operator--The 'is' is known as the identity operator.\n",
        "\n",
        "The is operator checks if two variables point to the same object in memory. It returns True if both variables are referring to the exact same object. If they point to different objects, even if the values are the same, it returns False.\n",
        "\n",
        "== Operator-- The '==' is known as the equality operator.\n",
        "\n",
        "When the variables on either side have the exact same value, the == operator evaluation is true. Otherwise, it will evaluate as False.\n",
        "\n",
        "Q.8)What are logical operators in Python?\n",
        "\n",
        "Answer-Python logical operators are used to combine conditional statements, allowing you to perform operations based on multiple conditions. These Python operators, alongside arithmetic operators, are special symbols used to carry out computations on values and variables.\n",
        "\n",
        "In Python, Logical operators are used on conditional statements (either True or False). They perform Logical AND, Logical OR, and Logical NOT operations.\n",
        "\n",
        "and operator--Returns True if both the operands are true\n",
        "\n",
        "or operator--Returns True if either of the operands is true\n",
        "\n",
        "not operator-- The Boolean NOT operator works with a single boolean value. It returns true if the operand is false.\n",
        "\n",
        "Q.9) What is type casting in Python?\n",
        "\n",
        "Answer-- Type Casting is the method to convert the Python variable datatype into a certain data type in order to perform the required operation by users.Typecasting in Python can be very useful in dealing with large data sets where the data is present in different data types. Also, by leveraging the power of typecasting in Python, we can convert mutable datatypes into immutable ones and vice versa.\n",
        "\n",
        "Q.10) What is the difference between implicit and explicit type casting?\n",
        "\n",
        "Answer--\n",
        "\n",
        "1)Python Implicit Type Conversion-- Python converts the datatype into another datatype automatically.During the implicit type conversion, the user is not supposed to mention any specific data type during the conversion. For example, while multiplying an integer and a floating-point number, Python implicitly converts the integer value into a floating-point value to perform the multiplication.\n",
        "\n",
        "2)Python Explicit Type Conversion--In this method, Python needs user involvement to convert the variable data type into the required data type. Example-Int to float ,float to int ,int to str ,str to float\n",
        "\n",
        "Q.10) What is the purpose of conditional statements in Python?\n",
        "\n",
        "Answer-Conditional statements in Python are used to execute certain blocks of code based on specific conditions.\n",
        "\n",
        "Purpose of conditional statements --\n",
        "\n",
        "1)These statements help control the flow of a program, making it behave differently in different situations.\n",
        "\n",
        "2)They help us make decisions and control how our program flows based on comparison, values or logical conditions.\n",
        "\n",
        "3)Works in decision-making scenarios\n",
        "\n",
        "Q.12)How does the elif statement work?\n",
        "\n",
        "elif statement in Python stands for \"else if.\" It allows us to check multiple conditions, providing a way to execute different blocks of code based on which condition is true. Using elif statements makes our code more readable and efficient by eliminating the need for multiple nested if statements. When using multiple ‘elif’ statements, remember to order your conditions from the narrowest to the broadest or from the lowest to the highest. Python will execute the first true condition it encounters, so the order is crucial to get the expected result.\n",
        "\n",
        "Also, using an 'else' statement at the end is a good practice. It acts as a safety net, catching any conditions that aren’t explicitly handled by your 'if' and 'elif' statements.\n",
        "\n"
      ],
      "metadata": {
        "id": "ZhG2Zw-Nh-az"
      }
    },
    {
      "cell_type": "code",
      "source": [
        "#how elif statement works\n",
        "letter = \"A\"\n",
        "\n",
        "if letter == \"B\":\n",
        "    print(\"letter is B\")\n",
        "\n",
        "elif letter == \"C\":\n",
        "    print(\"letter is C\")\n",
        "\n",
        "elif letter == \"A\":\n",
        "    print(\"letter is A\")\n",
        "\n",
        "else:\n",
        "    print(\"letter isn't A, B or C\")"
      ],
      "metadata": {
        "colab": {
          "base_uri": "https://localhost:8080/"
        },
        "id": "rI7jGoiGg_DR",
        "outputId": "ba5bcdb3-0a09-46e5-cda3-05333d72429b"
      },
      "execution_count": null,
      "outputs": [
        {
          "output_type": "stream",
          "name": "stdout",
          "text": [
            "letter is A\n"
          ]
        }
      ]
    },
    {
      "cell_type": "markdown",
      "source": [
        "Q.13) What is the difference between for and while loops?\n",
        "\n",
        "Answer-For loop is used to iterate over a sequence of items.For loops are designed for iterating over a sequence of items. Eg. list, tuple, etc.For loop is more efficient than a while loop when iterating over sequences, since the number of iterations is predetermined and the loop can be optimized accordingly.\n",
        "\n",
        "While loop is used to repeatedly execute a block of statements while a condition is true.While loop is used when the number of iterations is not known in advance or when we want to repeat a block of code until a certain condition is met.Itused for more complex control flow situations.It requires an initial condition that is tested at the beginning of the loop.\n",
        "\n",
        "Q.14)Describe a scenario where a while loop is more suitable than a for loop.\n",
        "\n",
        "Answer-A scenario where while loop is more suitable is of indefinite iterations.When the number of iterations is not known beforehand, a While loop is more suitable as it continues until a specified condition is no longer true."
      ],
      "metadata": {
        "id": "-aRebfcohi_K"
      }
    },
    {
      "cell_type": "markdown",
      "source": [
        "**Practical Questions**"
      ],
      "metadata": {
        "id": "tzG_9VT0jXbA"
      }
    },
    {
      "cell_type": "code",
      "source": [
        "#Ques 1.Write a Python program to print \"Hello, World!\n",
        "print(\"Hello, World!\")"
      ],
      "metadata": {
        "colab": {
          "base_uri": "https://localhost:8080/"
        },
        "id": "HhLBXq_kjvSr",
        "outputId": "1111d179-506b-4789-c895-11c2fefcfea7"
      },
      "execution_count": null,
      "outputs": [
        {
          "output_type": "stream",
          "name": "stdout",
          "text": [
            "Hello, World!\n"
          ]
        }
      ]
    },
    {
      "cell_type": "code",
      "source": [
        "#Ques 2.Write a Python program that displays your name and age\n",
        "print(\" My name is Suruchi Patel\")\n",
        "print(\" My age is 33 years\" )"
      ],
      "metadata": {
        "colab": {
          "base_uri": "https://localhost:8080/"
        },
        "id": "ByZjGdfNkDOE",
        "outputId": "8e15c052-38b2-4cdf-de99-b4986dcefa96"
      },
      "execution_count": null,
      "outputs": [
        {
          "output_type": "stream",
          "name": "stdout",
          "text": [
            " My name is Suruchi Patel\n",
            " My age is 33 years\n"
          ]
        }
      ]
    },
    {
      "cell_type": "code",
      "source": [
        "#Ques 3.Write code to print all the pre-defined keywords in Python using the keyword library\n",
        "import keyword\n",
        "print(\"All the pre-defined keywords are:- \")\n",
        "print(keyword.kwlist)\n"
      ],
      "metadata": {
        "colab": {
          "base_uri": "https://localhost:8080/"
        },
        "id": "VjyGSeRNlisO",
        "outputId": "4a985627-4edb-419f-9e6a-5550ed2af8d8"
      },
      "execution_count": null,
      "outputs": [
        {
          "output_type": "stream",
          "name": "stdout",
          "text": [
            "All the pre-defined keywords are:- \n",
            "['False', 'None', 'True', 'and', 'as', 'assert', 'async', 'await', 'break', 'class', 'continue', 'def', 'del', 'elif', 'else', 'except', 'finally', 'for', 'from', 'global', 'if', 'import', 'in', 'is', 'lambda', 'nonlocal', 'not', 'or', 'pass', 'raise', 'return', 'try', 'while', 'with', 'yield']\n"
          ]
        }
      ]
    },
    {
      "cell_type": "code",
      "source": [
        "#Ques 4.Write a program that checks if a given word is a Python keyword.\n",
        "import keyword\n",
        "\n",
        "s = 'for'\n",
        "if keyword.iskeyword(s):\n",
        "    print(f\"'{s}' is a Python keyword.\")\n",
        "else:\n",
        "    print(f\"'{s}' is not a Python keyword.\")"
      ],
      "metadata": {
        "id": "Yf8D4lj1l8i9"
      },
      "execution_count": null,
      "outputs": []
    },
    {
      "cell_type": "code",
      "source": [
        "#Ques 5. Create a list and tuple in Python, and demonstrate how attempting to change an element works differently for each\n",
        "#create a list\n",
        "l1=[1,'aman',9.9,'A']\n",
        "#removing a data from the list\n",
        "l1.remove(9.9)\n",
        "print(l1)\n"
      ],
      "metadata": {
        "colab": {
          "base_uri": "https://localhost:8080/"
        },
        "id": "nwy-Mh7VmYxU",
        "outputId": "cffe2493-b92c-4383-aad4-6c445ecc5e47"
      },
      "execution_count": null,
      "outputs": [
        {
          "output_type": "stream",
          "name": "stdout",
          "text": [
            "[1, 'aman', 'A']\n"
          ]
        }
      ]
    },
    {
      "cell_type": "code",
      "source": [
        "#creating a tuple\n",
        "tuple_1=('Aman','V',10,11.12)\n",
        "#removing data from the tuple\n",
        "tuple_1[2]=19\n",
        "print(tuple_1)"
      ],
      "metadata": {
        "colab": {
          "base_uri": "https://localhost:8080/",
          "height": 193
        },
        "id": "Yd9r4TI5m36F",
        "outputId": "daa313dc-15cb-4476-e849-5156bb2d2164"
      },
      "execution_count": null,
      "outputs": [
        {
          "output_type": "error",
          "ename": "TypeError",
          "evalue": "'tuple' object does not support item assignment",
          "traceback": [
            "\u001b[0;31m---------------------------------------------------------------------------\u001b[0m",
            "\u001b[0;31mTypeError\u001b[0m                                 Traceback (most recent call last)",
            "\u001b[0;32m/tmp/ipython-input-1955323940.py\u001b[0m in \u001b[0;36m<cell line: 0>\u001b[0;34m()\u001b[0m\n\u001b[1;32m      1\u001b[0m \u001b[0;31m#creating a tuple\u001b[0m\u001b[0;34m\u001b[0m\u001b[0;34m\u001b[0m\u001b[0m\n\u001b[1;32m      2\u001b[0m \u001b[0mtuple_1\u001b[0m\u001b[0;34m=\u001b[0m\u001b[0;34m(\u001b[0m\u001b[0;34m'Aman'\u001b[0m\u001b[0;34m,\u001b[0m\u001b[0;34m'V'\u001b[0m\u001b[0;34m,\u001b[0m\u001b[0;36m10\u001b[0m\u001b[0;34m,\u001b[0m\u001b[0;36m11.12\u001b[0m\u001b[0;34m)\u001b[0m\u001b[0;34m\u001b[0m\u001b[0;34m\u001b[0m\u001b[0m\n\u001b[0;32m----> 3\u001b[0;31m \u001b[0mtuple_1\u001b[0m\u001b[0;34m[\u001b[0m\u001b[0;36m2\u001b[0m\u001b[0;34m]\u001b[0m\u001b[0;34m=\u001b[0m\u001b[0;36m19\u001b[0m\u001b[0;34m\u001b[0m\u001b[0;34m\u001b[0m\u001b[0m\n\u001b[0m\u001b[1;32m      4\u001b[0m \u001b[0mprint\u001b[0m\u001b[0;34m(\u001b[0m\u001b[0mtuple_1\u001b[0m\u001b[0;34m)\u001b[0m\u001b[0;34m\u001b[0m\u001b[0;34m\u001b[0m\u001b[0m\n",
            "\u001b[0;31mTypeError\u001b[0m: 'tuple' object does not support item assignment"
          ]
        }
      ]
    },
    {
      "cell_type": "code",
      "source": [
        "#Ques 6.Write a function to demonstrate the behavior of mutable and immutable arguments.\n",
        "# Showing mutable argument ,here the Function can modify the original object,i.e,list\n",
        "def modify_list(lst):\n",
        "  lst.append(4)\n",
        "\n",
        "l = [1, 2, 3]\n",
        "modify_list(l)\n",
        "print(l)"
      ],
      "metadata": {
        "id": "phat8WNTng5f",
        "colab": {
          "base_uri": "https://localhost:8080/"
        },
        "outputId": "01d6abce-05fa-4bae-bc8a-aef04a3a2f6f"
      },
      "execution_count": 2,
      "outputs": [
        {
          "output_type": "stream",
          "name": "stdout",
          "text": [
            "[1, 2, 3, 4]\n"
          ]
        }
      ]
    },
    {
      "cell_type": "code",
      "source": [
        "\n",
        "#showing immutable arguments ,here the function works with a copy, leaving the original object unchanged\n",
        "def increment(n):\n",
        "  n += 1\n",
        "\n",
        "a = 10\n",
        "increment(a)"
      ],
      "metadata": {
        "id": "4Dl9XHqAqkwL"
      },
      "execution_count": 5,
      "outputs": []
    },
    {
      "cell_type": "code",
      "source": [
        "#Ques 7.Write a program that performs basic arithmetic operations on two user-input numbers\n",
        "number1=int(input(\"Enter the first number:\"))\n",
        "number2=int(input(\"Enter the second number:\"))\n",
        "print(\"the sum is:\",number1+number2)\n",
        "print(\"the difference is :\",number1-number2)\n",
        "print(\"the product is :\",number1*number2)\n",
        "print(\"the division is :\",number1/number2)"
      ],
      "metadata": {
        "colab": {
          "base_uri": "https://localhost:8080/"
        },
        "id": "NLnuNz6OrJPc",
        "outputId": "ca31eb0e-6412-470f-e96d-bb2a056de427"
      },
      "execution_count": 21,
      "outputs": [
        {
          "output_type": "stream",
          "name": "stdout",
          "text": [
            "Enter the first number:40\n",
            "Enter the second number:5\n",
            "the sum is: 45\n",
            "the difference is : 35\n",
            "the product is : 200\n",
            "the division is : 8.0\n"
          ]
        }
      ]
    },
    {
      "cell_type": "code",
      "source": [
        "#Ques 8. Write a program to demonstrate the use of logical operators\n",
        "#use of logical and operator\n",
        "a = 10\n",
        "b = 12\n",
        "c = 15\n",
        "if a and b and c:\n",
        "    print(\"All the numbers have boolean value as True\")\n",
        "else:\n",
        "    print(\"Atleast one number has boolean value as False\")"
      ],
      "metadata": {
        "colab": {
          "base_uri": "https://localhost:8080/"
        },
        "id": "zX3sS8fjtVNO",
        "outputId": "4cbf3b15-281d-42f1-ad09-433d1519b742"
      },
      "execution_count": 43,
      "outputs": [
        {
          "output_type": "stream",
          "name": "stdout",
          "text": [
            "All the numbers have boolean value as True\n"
          ]
        }
      ]
    },
    {
      "cell_type": "code",
      "source": [
        "# use of logical or\n",
        "a = 10\n",
        "b = 20\n",
        "c = 0\n",
        "if a > 0 or b > 0:\n",
        "    print(\"Either of the number is greater than 0\")\n",
        "else:\n",
        "    print(\"No number is greater than 0\")\n",
        "if b > 0 or c > 0:\n",
        "    print(\"Either of the number is greater than 0\")\n",
        "else:\n",
        "    print(\"No number is greater than 0\")\n"
      ],
      "metadata": {
        "colab": {
          "base_uri": "https://localhost:8080/"
        },
        "id": "MJWNYin57iYs",
        "outputId": "a4c84901-2a4d-435c-d184-89dc25a42675"
      },
      "execution_count": 45,
      "outputs": [
        {
          "output_type": "stream",
          "name": "stdout",
          "text": [
            "Either of the number is greater than 0\n",
            "Either of the number is greater than 0\n"
          ]
        }
      ]
    },
    {
      "cell_type": "code",
      "source": [
        "#use of logical not\n",
        "a = 30\n",
        "\n",
        "if not a:\n",
        "    print(\"Boolean value of a is True\")\n",
        "if not (a % 3 == 0 or a % 5 == 0):\n",
        "    print(\"10 is not divisible by either 3 or 5\")\n",
        "else:\n",
        "    print(\"10 is divisible by either 3 or 5\")"
      ],
      "metadata": {
        "colab": {
          "base_uri": "https://localhost:8080/"
        },
        "id": "z66ta83b7Kle",
        "outputId": "d0a4ed57-3a7c-4e69-8c2d-d345f1cd2d06"
      },
      "execution_count": 40,
      "outputs": [
        {
          "output_type": "stream",
          "name": "stdout",
          "text": [
            "10 is divisible by either 3 or 5\n"
          ]
        }
      ]
    },
    {
      "cell_type": "code",
      "source": [
        "#Ques 9. Write a Python program to convert user input from string to integer, float, and boolean types.\n",
        "\n",
        "# Convert string to integer\n",
        "string_int = input(\"Enter an integer as a string: \")\n",
        "integer_value = int(string_int)\n",
        "print(\"Converted to integer:\",integer_value)\n",
        "\n",
        "# Convert string to float\n",
        "string_float = input(\"Enter a float as a string: \")\n",
        "float_value = float(string_float)\n",
        "print(\"Converted to float:\", float_value)\n",
        "\n",
        "# Convert string to boolean\n",
        "string_bool = input(\"Enter 'True' or 'False' as a string: \")\n",
        "boolean_value = bool(string_bool == 'true')\n",
        "print(\"Converted to boolean:\", boolean_value)"
      ],
      "metadata": {
        "colab": {
          "base_uri": "https://localhost:8080/"
        },
        "id": "4U6ryImM8AUM",
        "outputId": "0890aaca-f0ed-463f-c758-a0e79a256181"
      },
      "execution_count": 56,
      "outputs": [
        {
          "output_type": "stream",
          "name": "stdout",
          "text": [
            "Enter an integer as a string: 10\n",
            "Converted to integer: 10\n",
            "Enter a float as a string: 2.3\n",
            "Converted to float: 2.3\n",
            "Enter 'True' or 'False' as a string: true\n",
            "Converted to boolean: True\n"
          ]
        }
      ]
    },
    {
      "cell_type": "code",
      "metadata": {
        "colab": {
          "base_uri": "https://localhost:8080/"
        },
        "id": "d8879807",
        "outputId": "c007d033-c5cc-4361-8a35-d1cfdfe93723"
      },
      "source": [
        "#Ques 10.Write code to demonstrate type casting with list elements.\n",
        "a = [1, 4, 9, 10, 19] #list of integers\n",
        "c = [str(x) for x in a] # typecasting each element to string\n",
        "print(c)"
      ],
      "execution_count": 57,
      "outputs": [
        {
          "output_type": "stream",
          "name": "stdout",
          "text": [
            "['1', '4', '9', '10', '19']\n"
          ]
        }
      ]
    },
    {
      "cell_type": "code",
      "source": [
        "#now, typecasting to each element of the list to float\n",
        "a=[1,5,7,8,9]\n",
        "c=[float(x) for x in a ]\n",
        "print(c)"
      ],
      "metadata": {
        "colab": {
          "base_uri": "https://localhost:8080/"
        },
        "id": "YyVXLYoNAMmj",
        "outputId": "027b4b07-8a55-4e6c-a201-8da64b694012"
      },
      "execution_count": 58,
      "outputs": [
        {
          "output_type": "stream",
          "name": "stdout",
          "text": [
            "[1.0, 5.0, 7.0, 8.0, 9.0]\n"
          ]
        }
      ]
    },
    {
      "cell_type": "code",
      "source": [
        "#Ques 11.Write a program that checks if a number is positive, negative, or zero.\n",
        "number=int(input(\"Enter a number:\"))\n",
        "if number>0:\n",
        "  print(\"The number is positive\")\n",
        "elif number<0:\n",
        "  print(\"The number is negative\")\n",
        "else:\n",
        "  print(\"The number is zero\")"
      ],
      "metadata": {
        "colab": {
          "base_uri": "https://localhost:8080/"
        },
        "id": "oWjZkkHRAecj",
        "outputId": "8faf34f0-141a-48ac-bf8b-ccc284c49988"
      },
      "execution_count": 61,
      "outputs": [
        {
          "output_type": "stream",
          "name": "stdout",
          "text": [
            "Enter a number:10\n",
            "The number is positive\n"
          ]
        }
      ]
    },
    {
      "cell_type": "code",
      "source": [
        "#Ques 12.Write a for loop to print numbers from 1 to 10.\n",
        "for i in range(1,11):\n",
        "  print(i)\n",
        "\n"
      ],
      "metadata": {
        "colab": {
          "base_uri": "https://localhost:8080/"
        },
        "id": "3y9rWoP2AuUt",
        "outputId": "fa7fde48-9a60-4ab4-bc87-525ba66c8dd0"
      },
      "execution_count": 67,
      "outputs": [
        {
          "output_type": "stream",
          "name": "stdout",
          "text": [
            "1\n",
            "2\n",
            "3\n",
            "4\n",
            "5\n",
            "6\n",
            "7\n",
            "8\n",
            "9\n",
            "10\n"
          ]
        }
      ]
    },
    {
      "cell_type": "code",
      "source": [
        "#Ques 13. Write a Python program to find the sum of all even numbers between 1 and 50.\n",
        "sum_of_evens = 0\n",
        "for number in range(1, 51):\n",
        "  if number % 2 == 0:\n",
        "    sum_of_evens += number\n",
        "print(\"The sum of all even numbers between 1 and 50 is:\", sum_of_evens)"
      ],
      "metadata": {
        "colab": {
          "base_uri": "https://localhost:8080/"
        },
        "id": "ec-Hk-RYBNOc",
        "outputId": "435224c1-aff7-4ea6-8ff5-b85fdd3402df"
      },
      "execution_count": 80,
      "outputs": [
        {
          "output_type": "stream",
          "name": "stdout",
          "text": [
            "The sum of all even numbers between 1 and 50 is: 650\n"
          ]
        }
      ]
    },
    {
      "cell_type": "code",
      "source": [
        "#Ques 14.Write a program to reverse a string using while loop.\n",
        "string = input(\"Enter a string: \")\n",
        "reversed_string = \"\"# kept an empty string to store the reversed result\n",
        "length=len(string)-1\n",
        "\n",
        "# Using a while loop to iterate through the string\n",
        "while length>=0:\n",
        "\n",
        "  reversed_string+=string[length]\n",
        "  length-=1;\n",
        "\n",
        "print(\"The reversed string is:\", reversed_string)"
      ],
      "metadata": {
        "colab": {
          "base_uri": "https://localhost:8080/"
        },
        "id": "hJQztaLuD70G",
        "outputId": "c7758d1c-7bed-4770-d75f-e28cee14186e"
      },
      "execution_count": 88,
      "outputs": [
        {
          "output_type": "stream",
          "name": "stdout",
          "text": [
            "Enter a string: hello\n",
            "The reversed string is: olleh\n"
          ]
        }
      ]
    },
    {
      "cell_type": "code",
      "source": [
        "#Ques 15.Write a Python program to calculate the factorial of a number provided by the user using a while loop.\n",
        "number = int(input(\"Enter a number: \"))\n",
        "factorial = 1\n",
        "current = 1\n",
        "while current <= number:\n",
        "  factorial *= current\n",
        "  current += 1\n",
        "print(\"The factorial of\", number, \"is\", factorial)"
      ],
      "metadata": {
        "colab": {
          "base_uri": "https://localhost:8080/"
        },
        "id": "KgxX7JMtb6wW",
        "outputId": "aa2f244f-dd7b-4b8f-c9ea-9200a5cd9423"
      },
      "execution_count": 89,
      "outputs": [
        {
          "output_type": "stream",
          "name": "stdout",
          "text": [
            "Enter a number: 4\n",
            "The factorial of 4 is 24\n"
          ]
        }
      ]
    }
  ]
}